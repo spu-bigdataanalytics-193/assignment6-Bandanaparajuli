{
  "nbformat": 4,
  "nbformat_minor": 0,
  "metadata": {
    "colab": {
      "name": "Untitled3.ipynb",
      "provenance": []
    },
    "kernelspec": {
      "name": "python3",
      "display_name": "Python 3"
    }
  },
  "cells": [
    {
      "cell_type": "code",
      "metadata": {
        "id": "ZxZkmgNR_6Vm",
        "colab_type": "code",
        "colab": {}
      },
      "source": [
        "! apt-get install openjdk-8-jdk-headless -qq > /dev/null\n",
        "! wget -q https://www-us.apache.org/dist/spark/spark-2.4.4/spark-2.4.4-bin-hadoop2.7.tgz\n",
        "! tar xf spark-2.4.4-bin-hadoop2.7.tgz\n",
        "! pip install -q findspark\n",
        "import os\n",
        "os.environ[\"JAVA_HOME\"] = \"/usr/lib/jvm/java-8-openjdk-amd64\"\n",
        "os.environ[\"SPARK_HOME\"] = \"/content/spark-2.4.4-bin-hadoop2.7\""
      ],
      "execution_count": 0,
      "outputs": []
    },
    {
      "cell_type": "code",
      "metadata": {
        "id": "FzR5mznz_9i3",
        "colab_type": "code",
        "colab": {
          "base_uri": "https://localhost:8080/",
          "height": 121
        },
        "outputId": "22c3327f-c761-44d2-bdb3-bacbfb7ab814"
      },
      "source": [
        "from google.colab import drive\n",
        "drive.mount('/content/gdrive')"
      ],
      "execution_count": 2,
      "outputs": [
        {
          "output_type": "stream",
          "text": [
            "Go to this URL in a browser: https://accounts.google.com/o/oauth2/auth?client_id=947318989803-6bn6qk8qdgf4n4g3pfee6491hc0brc4i.apps.googleusercontent.com&redirect_uri=urn%3aietf%3awg%3aoauth%3a2.0%3aoob&response_type=code&scope=email%20https%3a%2f%2fwww.googleapis.com%2fauth%2fdocs.test%20https%3a%2f%2fwww.googleapis.com%2fauth%2fdrive%20https%3a%2f%2fwww.googleapis.com%2fauth%2fdrive.photos.readonly%20https%3a%2f%2fwww.googleapis.com%2fauth%2fpeopleapi.readonly\n",
            "\n",
            "Enter your authorization code:\n",
            "··········\n",
            "Mounted at /content/gdrive\n"
          ],
          "name": "stdout"
        }
      ]
    },
    {
      "cell_type": "code",
      "metadata": {
        "id": "CoP29V_rANlp",
        "colab_type": "code",
        "colab": {}
      },
      "source": [
        "import sys\n",
        "\n",
        "\n",
        "def progressbar(total, progress, prefix=\"\"):\n",
        "    \"\"\"\n",
        "    Displays or updates a console progress bar.\n",
        "    Original source: https://stackoverflow.com/a/15860757/1391441\n",
        "    \"\"\"\n",
        "    barLength, status = 20, \"\"\n",
        "    progress = float(progress) / float(total)\n",
        "    if progress >= 1.:\n",
        "        progress, status = 1, \"\\r\\n\"\n",
        "    block = int(round(barLength * progress))\n",
        "    text = \"\\r{} [{}] {:.0f}% {}\".format(\n",
        "        prefix, \"#\" * block + \"-\" * (barLength - block), round(progress * 100, 0),\n",
        "        status)\n",
        "    sys.stdout.write(text)\n",
        "    sys.stdout.flush()"
      ],
      "execution_count": 0,
      "outputs": []
    },
    {
      "cell_type": "code",
      "metadata": {
        "id": "-1HdVn62AcMW",
        "colab_type": "code",
        "colab": {}
      },
      "source": [
        "import os\n",
        "import glob\n",
        "import shutil\n",
        "import urllib3\n",
        "import functools\n",
        "import pandas as pd\n",
        "from itertools import groupby\n",
        "from functools import reduce"
      ],
      "execution_count": 0,
      "outputs": []
    },
    {
      "cell_type": "code",
      "metadata": {
        "id": "YPV1X9BMAfdQ",
        "colab_type": "code",
        "colab": {}
      },
      "source": [
        "DATA_SOURCE = 'http://www.rdatasciencecases.org/Data/Airline/'\n",
        "DATA_DIR = os.path.join('data')\n",
        "\n",
        "\n",
        "def download_handler(file_path, data_url):\n",
        "    \"\"\"\n",
        "    downloads the data from stat computing website.\n",
        "    \"\"\"\n",
        "\n",
        "    with urllib3.PoolManager().request('GET', data_url, preload_content=False) as r:\n",
        "        if r.status == 200:\n",
        "            with open(file_path, 'wb') as w:\n",
        "                shutil.copyfileobj(r, w)\n",
        "        else:\n",
        "            print('internet connection error.')\n",
        "\n",
        "\n",
        "def check_dataset():\n",
        "    file_list = []\n",
        "    for year in range(1987, 2009):\n",
        "        file_path = '{}/raw_{}.csv.bz2'.format(DATA_DIR, year)\n",
        "        file_list.append(file_path)\n",
        "\n",
        "    if not any(map(os.path.exists, file_list)):\n",
        "        return True\n",
        "    else:\n",
        "        return False\n",
        "\n",
        "\n",
        "def download_dataset():\n",
        "    \"\"\"\n",
        "    download all the years of flight data into data folder\n",
        "    \"\"\"\n",
        "    if check_dataset():\n",
        "\n",
        "        if not os.path.exists(DATA_DIR):\n",
        "            os.mkdir(DATA_DIR)\n",
        "\n",
        "        year_range = range(1987, 2009)\n",
        "        for ind, year in enumerate(year_range):\n",
        "            # vars\n",
        "            data_url = '{}/{}.csv.bz2'.format(DATA_SOURCE, year)\n",
        "            file_path = '{}/raw_{}.csv.bz2'.format(DATA_DIR, year)\n",
        "\n",
        "            # download\n",
        "            download_handler(file_path, data_url)\n",
        "            \n",
        "            # progress\n",
        "            progressbar(len(year_range), ind + 1, 'download status: ')\n",
        "    else:\n",
        "        print('data downloaded. you can skip this step or delete data folder to download again.')\n",
        "\n",
        "\n",
        "def read_as_dataframe():\n",
        "    \"\"\"\n",
        "    Read all files into one single dataframe.\n",
        "    PS: this should work, unfortunately, my computer is slow to load all into one. \n",
        "    I didn't try this code, but if this works, you only need to loop for the rows.\n",
        "    \"\"\"\n",
        "    par_func = functools.partial(pd.read_csv, compression='bz2', encoding='ISO-8859-1', memory_map=True)\n",
        "    file_list = glob.glob(os.path.join(DATA_DIR, '*.csv.bz2'))\n",
        "    df = pd.concat(map(par_func, file_list))\n",
        "\n",
        "    return df"
      ],
      "execution_count": 0,
      "outputs": []
    },
    {
      "cell_type": "code",
      "metadata": {
        "id": "ynyy1d19AlxV",
        "colab_type": "code",
        "colab": {
          "base_uri": "https://localhost:8080/",
          "height": 34
        },
        "outputId": "de99bcbb-5e03-4e2e-a65b-df633140e6e3"
      },
      "source": [
        "download_dataset()"
      ],
      "execution_count": 6,
      "outputs": [
        {
          "output_type": "stream",
          "text": [
            "download status:  [####################] 100% \n"
          ],
          "name": "stdout"
        }
      ]
    },
    {
      "cell_type": "code",
      "metadata": {
        "id": "XronseTMAr2i",
        "colab_type": "code",
        "colab": {}
      },
      "source": [
        "file_list = sorted(glob.glob(os.path.join('data', '*.csv.bz2')))"
      ],
      "execution_count": 0,
      "outputs": []
    },
    {
      "cell_type": "code",
      "metadata": {
        "id": "P69FYZ0CBdCZ",
        "colab_type": "code",
        "colab": {}
      },
      "source": [
        "carrier_counts = {}"
      ],
      "execution_count": 0,
      "outputs": []
    },
    {
      "cell_type": "code",
      "metadata": {
        "id": "0AiQEjeJBiiQ",
        "colab_type": "code",
        "colab": {
          "base_uri": "https://localhost:8080/",
          "height": 34
        },
        "outputId": "016fbd55-5a8d-48b3-af41-39ea4b859db9"
      },
      "source": [
        "for ind, data_file in enumerate(file_list):\n",
        "    # read current data\n",
        "    df = pd.read_csv(data_file, encoding='ISO-8859-1', memory_map=True, low_memory=False) \n",
        "    \n",
        "    # unique airlines in dataset\n",
        "    carriers = df.UniqueCarrier.unique()\n",
        "    \n",
        "    # update the global carrier_count\n",
        "    for key in carriers:\n",
        "        if key not in carrier_counts:\n",
        "            carrier_counts.update({key: 0})\n",
        "    \n",
        "    # loop through each row in dataframe \n",
        "    for carrier in df.UniqueCarrier:\n",
        "        carrier_counts[carrier] += 1\n",
        "\n",
        "    # info \n",
        "    prefix ='Shape: {} ; {} Mb'.format(\n",
        "        df.shape, round(df.memory_usage().sum() / 1e+6,2))\n",
        "    \n",
        "    # track the progress\n",
        "    progressbar(len(file_list), ind + 1, prefix=prefix)"
      ],
      "execution_count": 9,
      "outputs": [
        {
          "output_type": "stream",
          "text": [
            "Shape: (7009728, 29) ; 1626.26 Mb [####################] 100% \n"
          ],
          "name": "stdout"
        }
      ]
    },
    {
      "cell_type": "code",
      "metadata": {
        "id": "m9yYW2lQBqTy",
        "colab_type": "code",
        "colab": {
          "base_uri": "https://localhost:8080/",
          "height": 504
        },
        "outputId": "6cfaa131-bb0c-48ab-8e63-a08af6f13019"
      },
      "source": [
        "carrier_counts"
      ],
      "execution_count": 10,
      "outputs": [
        {
          "output_type": "execute_result",
          "data": {
            "text/plain": [
              "{'9E': 521059,\n",
              " 'AA': 14984647,\n",
              " 'AQ': 154381,\n",
              " 'AS': 2878021,\n",
              " 'B6': 811341,\n",
              " 'CO': 8145788,\n",
              " 'DH': 693047,\n",
              " 'DL': 16547870,\n",
              " 'EA': 919785,\n",
              " 'EV': 1697172,\n",
              " 'F9': 336958,\n",
              " 'FL': 1265138,\n",
              " 'HA': 274265,\n",
              " 'HP': 3636682,\n",
              " 'ML (1)': 70622,\n",
              " 'MQ': 3954895,\n",
              " 'NW': 10292627,\n",
              " 'OH': 1464176,\n",
              " 'OO': 3090853,\n",
              " 'PA (1)': 316167,\n",
              " 'PI': 873957,\n",
              " 'PS': 83617,\n",
              " 'TW': 3757747,\n",
              " 'TZ': 208420,\n",
              " 'UA': 13299817,\n",
              " 'US': 14075530,\n",
              " 'WN': 15976022,\n",
              " 'XE': 2350309,\n",
              " 'YV': 854056}"
            ]
          },
          "metadata": {
            "tags": []
          },
          "execution_count": 10
        }
      ]
    },
    {
      "cell_type": "code",
      "metadata": {
        "id": "P-hS_VJJE6xW",
        "colab_type": "code",
        "colab": {
          "base_uri": "https://localhost:8080/",
          "height": 504
        },
        "outputId": "77ccc10d-6f3c-4bb1-f29d-2108ad21105f"
      },
      "source": [
        "carrier_counts"
      ],
      "execution_count": 11,
      "outputs": [
        {
          "output_type": "execute_result",
          "data": {
            "text/plain": [
              "{'9E': 521059,\n",
              " 'AA': 14984647,\n",
              " 'AQ': 154381,\n",
              " 'AS': 2878021,\n",
              " 'B6': 811341,\n",
              " 'CO': 8145788,\n",
              " 'DH': 693047,\n",
              " 'DL': 16547870,\n",
              " 'EA': 919785,\n",
              " 'EV': 1697172,\n",
              " 'F9': 336958,\n",
              " 'FL': 1265138,\n",
              " 'HA': 274265,\n",
              " 'HP': 3636682,\n",
              " 'ML (1)': 70622,\n",
              " 'MQ': 3954895,\n",
              " 'NW': 10292627,\n",
              " 'OH': 1464176,\n",
              " 'OO': 3090853,\n",
              " 'PA (1)': 316167,\n",
              " 'PI': 873957,\n",
              " 'PS': 83617,\n",
              " 'TW': 3757747,\n",
              " 'TZ': 208420,\n",
              " 'UA': 13299817,\n",
              " 'US': 14075530,\n",
              " 'WN': 15976022,\n",
              " 'XE': 2350309,\n",
              " 'YV': 854056}"
            ]
          },
          "metadata": {
            "tags": []
          },
          "execution_count": 11
        }
      ]
    },
    {
      "cell_type": "code",
      "metadata": {
        "id": "joBqxwcrFATl",
        "colab_type": "code",
        "colab": {}
      },
      "source": [
        "alldata = pd.DataFrame()\n",
        "for ind, data_file in enumerate(file_list):\n",
        "    df = pd.DataFrame(pd.read_csv(data_file, encoding='ISO-8859-1', memory_map=True, low_memory=False, usecols=['Year', 'UniqueCarrier']))\n",
        "    alldata=alldata.append(df)"
      ],
      "execution_count": 0,
      "outputs": []
    },
    {
      "cell_type": "code",
      "metadata": {
        "id": "1WYKFMUvFVv4",
        "colab_type": "code",
        "colab": {}
      },
      "source": [
        "allcarriers = alldata.UniqueCarrier"
      ],
      "execution_count": 0,
      "outputs": []
    },
    {
      "cell_type": "code",
      "metadata": {
        "id": "bz1ZpfIOHy5h",
        "colab_type": "code",
        "colab": {}
      },
      "source": [
        "mapping=map(lambda x:(x,1),allcarriers)"
      ],
      "execution_count": 0,
      "outputs": []
    },
    {
      "cell_type": "code",
      "metadata": {
        "id": "ZMy0_NzgH2jZ",
        "colab_type": "code",
        "colab": {}
      },
      "source": [
        "sorted_mapping=sorted(mapping)"
      ],
      "execution_count": 0,
      "outputs": []
    },
    {
      "cell_type": "code",
      "metadata": {
        "id": "BYpZAwkMH6id",
        "colab_type": "code",
        "colab": {
          "base_uri": "https://localhost:8080/",
          "height": 54
        },
        "outputId": "e141e2e9-3850-4ec4-a6ef-9cd1b6a0263d"
      },
      "source": [
        "grouper=groupby(sorted_mapping, lambda p:p[0])\n",
        "final=map(lambda l:(l[0],reduce(lambda x, y:x+y,map(lambda p: p[1], l[1]))), grouper)\n",
        "\n",
        "print(list(final))"
      ],
      "execution_count": 18,
      "outputs": [
        {
          "output_type": "stream",
          "text": [
            "[('9E', 521059), ('AA', 14984647), ('AQ', 154381), ('AS', 2878021), ('B6', 811341), ('CO', 8145788), ('DH', 693047), ('DL', 16547870), ('EA', 919785), ('EV', 1697172), ('F9', 336958), ('FL', 1265138), ('HA', 274265), ('HP', 3636682), ('ML (1)', 70622), ('MQ', 3954895), ('NW', 10292627), ('OH', 1464176), ('OO', 3090853), ('PA (1)', 316167), ('PI', 873957), ('PS', 83617), ('TW', 3757747), ('TZ', 208420), ('UA', 13299817), ('US', 14075530), ('WN', 15976022), ('XE', 2350309), ('YV', 854056)]\n"
          ],
          "name": "stdout"
        }
      ]
    },
    {
      "cell_type": "code",
      "metadata": {
        "id": "_uG3bapVIHzC",
        "colab_type": "code",
        "colab": {}
      },
      "source": [
        ""
      ],
      "execution_count": 0,
      "outputs": []
    }
  ]
}